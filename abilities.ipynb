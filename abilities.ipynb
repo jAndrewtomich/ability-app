{
 "cells": [
  {
   "cell_type": "code",
   "execution_count": 162,
   "id": "631310a7",
   "metadata": {},
   "outputs": [],
   "source": [
    "import pandas as pd\n",
    "\n",
    "df_raw = pd.read_csv('data.csv')"
   ]
  },
  {
   "cell_type": "code",
   "execution_count": 163,
   "id": "f4afd3d8",
   "metadata": {},
   "outputs": [],
   "source": [
    "df = df_raw.copy(deep=True)"
   ]
  },
  {
   "cell_type": "code",
   "execution_count": 171,
   "id": "3da2f9e3",
   "metadata": {},
   "outputs": [],
   "source": [
    "tmp = df[(df['Response'].str.contains('Disability')) & ~((df['Response'].str.contains('Any')) | (df['Response'].str.contains('No')))].sort_values(['LocationAbbr', 'Year', 'Response', 'Number'])[['LocationAbbr', 'Year', 'Response', 'Number']]"
   ]
  },
  {
   "cell_type": "code",
   "execution_count": 173,
   "id": "52db7170",
   "metadata": {},
   "outputs": [],
   "source": [
    "tmp1 = tmp[~((tmp['LocationAbbr'] == 'US') | (tmp['LocationAbbr'].str.contains('HHS')))]"
   ]
  },
  {
   "cell_type": "code",
   "execution_count": 174,
   "id": "96a79a8f",
   "metadata": {},
   "outputs": [
    {
     "data": {
      "text/html": [
       "<div>\n",
       "<style scoped>\n",
       "    .dataframe tbody tr th:only-of-type {\n",
       "        vertical-align: middle;\n",
       "    }\n",
       "\n",
       "    .dataframe tbody tr th {\n",
       "        vertical-align: top;\n",
       "    }\n",
       "\n",
       "    .dataframe thead th {\n",
       "        text-align: right;\n",
       "    }\n",
       "</style>\n",
       "<table border=\"1\" class=\"dataframe\">\n",
       "  <thead>\n",
       "    <tr style=\"text-align: right;\">\n",
       "      <th></th>\n",
       "      <th>LocationAbbr</th>\n",
       "      <th>Year</th>\n",
       "      <th>Response</th>\n",
       "      <th>Number</th>\n",
       "    </tr>\n",
       "  </thead>\n",
       "  <tbody>\n",
       "    <tr>\n",
       "      <th>2768</th>\n",
       "      <td>AK</td>\n",
       "      <td>2016</td>\n",
       "      <td>Cognitive Disability</td>\n",
       "      <td>210.0</td>\n",
       "    </tr>\n",
       "    <tr>\n",
       "      <th>12603</th>\n",
       "      <td>AK</td>\n",
       "      <td>2016</td>\n",
       "      <td>Hearing Disability</td>\n",
       "      <td>209.0</td>\n",
       "    </tr>\n",
       "    <tr>\n",
       "      <th>7684</th>\n",
       "      <td>AK</td>\n",
       "      <td>2016</td>\n",
       "      <td>Independent Living Disability</td>\n",
       "      <td>145.0</td>\n",
       "    </tr>\n",
       "    <tr>\n",
       "      <th>10104</th>\n",
       "      <td>AK</td>\n",
       "      <td>2016</td>\n",
       "      <td>Mobility Disability</td>\n",
       "      <td>345.0</td>\n",
       "    </tr>\n",
       "    <tr>\n",
       "      <th>7778</th>\n",
       "      <td>AK</td>\n",
       "      <td>2016</td>\n",
       "      <td>Self-care Disability</td>\n",
       "      <td>88.0</td>\n",
       "    </tr>\n",
       "    <tr>\n",
       "      <th>...</th>\n",
       "      <td>...</td>\n",
       "      <td>...</td>\n",
       "      <td>...</td>\n",
       "      <td>...</td>\n",
       "    </tr>\n",
       "    <tr>\n",
       "      <th>342751</th>\n",
       "      <td>WY</td>\n",
       "      <td>2019</td>\n",
       "      <td>Hearing Disability</td>\n",
       "      <td>630.0</td>\n",
       "    </tr>\n",
       "    <tr>\n",
       "      <th>344632</th>\n",
       "      <td>WY</td>\n",
       "      <td>2019</td>\n",
       "      <td>Independent Living Disability</td>\n",
       "      <td>301.0</td>\n",
       "    </tr>\n",
       "    <tr>\n",
       "      <th>338075</th>\n",
       "      <td>WY</td>\n",
       "      <td>2019</td>\n",
       "      <td>Mobility Disability</td>\n",
       "      <td>782.0</td>\n",
       "    </tr>\n",
       "    <tr>\n",
       "      <th>340242</th>\n",
       "      <td>WY</td>\n",
       "      <td>2019</td>\n",
       "      <td>Self-care Disability</td>\n",
       "      <td>156.0</td>\n",
       "    </tr>\n",
       "    <tr>\n",
       "      <th>331345</th>\n",
       "      <td>WY</td>\n",
       "      <td>2019</td>\n",
       "      <td>Vision Disability</td>\n",
       "      <td>230.0</td>\n",
       "    </tr>\n",
       "  </tbody>\n",
       "</table>\n",
       "<p>1272 rows × 4 columns</p>\n",
       "</div>"
      ],
      "text/plain": [
       "       LocationAbbr  Year                       Response  Number\n",
       "2768             AK  2016           Cognitive Disability   210.0\n",
       "12603            AK  2016             Hearing Disability   209.0\n",
       "7684             AK  2016  Independent Living Disability   145.0\n",
       "10104            AK  2016            Mobility Disability   345.0\n",
       "7778             AK  2016           Self-care Disability    88.0\n",
       "...             ...   ...                            ...     ...\n",
       "342751           WY  2019             Hearing Disability   630.0\n",
       "344632           WY  2019  Independent Living Disability   301.0\n",
       "338075           WY  2019            Mobility Disability   782.0\n",
       "340242           WY  2019           Self-care Disability   156.0\n",
       "331345           WY  2019              Vision Disability   230.0\n",
       "\n",
       "[1272 rows x 4 columns]"
      ]
     },
     "execution_count": 174,
     "metadata": {},
     "output_type": "execute_result"
    }
   ],
   "source": [
    "tmp1"
   ]
  },
  {
   "cell_type": "code",
   "execution_count": 175,
   "id": "f2a777d5",
   "metadata": {},
   "outputs": [
    {
     "data": {
      "text/html": [
       "<div>\n",
       "<style scoped>\n",
       "    .dataframe tbody tr th:only-of-type {\n",
       "        vertical-align: middle;\n",
       "    }\n",
       "\n",
       "    .dataframe tbody tr th {\n",
       "        vertical-align: top;\n",
       "    }\n",
       "\n",
       "    .dataframe thead th {\n",
       "        text-align: right;\n",
       "    }\n",
       "</style>\n",
       "<table border=\"1\" class=\"dataframe\">\n",
       "  <thead>\n",
       "    <tr style=\"text-align: right;\">\n",
       "      <th></th>\n",
       "      <th>LocationAbbr</th>\n",
       "      <th>Year</th>\n",
       "      <th>Response</th>\n",
       "      <th>Number</th>\n",
       "    </tr>\n",
       "  </thead>\n",
       "  <tbody>\n",
       "    <tr>\n",
       "      <th>8585</th>\n",
       "      <td>TX</td>\n",
       "      <td>2016</td>\n",
       "      <td>Cognitive Disability</td>\n",
       "      <td>1124.0</td>\n",
       "    </tr>\n",
       "    <tr>\n",
       "      <th>2689</th>\n",
       "      <td>TX</td>\n",
       "      <td>2016</td>\n",
       "      <td>Hearing Disability</td>\n",
       "      <td>923.0</td>\n",
       "    </tr>\n",
       "    <tr>\n",
       "      <th>5270</th>\n",
       "      <td>TX</td>\n",
       "      <td>2016</td>\n",
       "      <td>Independent Living Disability</td>\n",
       "      <td>952.0</td>\n",
       "    </tr>\n",
       "    <tr>\n",
       "      <th>3735</th>\n",
       "      <td>TX</td>\n",
       "      <td>2016</td>\n",
       "      <td>Mobility Disability</td>\n",
       "      <td>2248.0</td>\n",
       "    </tr>\n",
       "    <tr>\n",
       "      <th>8692</th>\n",
       "      <td>TX</td>\n",
       "      <td>2016</td>\n",
       "      <td>Self-care Disability</td>\n",
       "      <td>577.0</td>\n",
       "    </tr>\n",
       "    <tr>\n",
       "      <th>2247</th>\n",
       "      <td>TX</td>\n",
       "      <td>2016</td>\n",
       "      <td>Vision Disability</td>\n",
       "      <td>708.0</td>\n",
       "    </tr>\n",
       "    <tr>\n",
       "      <th>110410</th>\n",
       "      <td>TX</td>\n",
       "      <td>2017</td>\n",
       "      <td>Cognitive Disability</td>\n",
       "      <td>1396.0</td>\n",
       "    </tr>\n",
       "    <tr>\n",
       "      <th>162</th>\n",
       "      <td>TX</td>\n",
       "      <td>2017</td>\n",
       "      <td>Hearing Disability</td>\n",
       "      <td>992.0</td>\n",
       "    </tr>\n",
       "    <tr>\n",
       "      <th>118959</th>\n",
       "      <td>TX</td>\n",
       "      <td>2017</td>\n",
       "      <td>Independent Living Disability</td>\n",
       "      <td>1089.0</td>\n",
       "    </tr>\n",
       "    <tr>\n",
       "      <th>115869</th>\n",
       "      <td>TX</td>\n",
       "      <td>2017</td>\n",
       "      <td>Mobility Disability</td>\n",
       "      <td>2402.0</td>\n",
       "    </tr>\n",
       "    <tr>\n",
       "      <th>118399</th>\n",
       "      <td>TX</td>\n",
       "      <td>2017</td>\n",
       "      <td>Self-care Disability</td>\n",
       "      <td>700.0</td>\n",
       "    </tr>\n",
       "    <tr>\n",
       "      <th>127295</th>\n",
       "      <td>TX</td>\n",
       "      <td>2017</td>\n",
       "      <td>Vision Disability</td>\n",
       "      <td>742.0</td>\n",
       "    </tr>\n",
       "    <tr>\n",
       "      <th>218851</th>\n",
       "      <td>TX</td>\n",
       "      <td>2018</td>\n",
       "      <td>Cognitive Disability</td>\n",
       "      <td>1158.0</td>\n",
       "    </tr>\n",
       "    <tr>\n",
       "      <th>219049</th>\n",
       "      <td>TX</td>\n",
       "      <td>2018</td>\n",
       "      <td>Hearing Disability</td>\n",
       "      <td>1000.0</td>\n",
       "    </tr>\n",
       "    <tr>\n",
       "      <th>225450</th>\n",
       "      <td>TX</td>\n",
       "      <td>2018</td>\n",
       "      <td>Independent Living Disability</td>\n",
       "      <td>871.0</td>\n",
       "    </tr>\n",
       "    <tr>\n",
       "      <th>214996</th>\n",
       "      <td>TX</td>\n",
       "      <td>2018</td>\n",
       "      <td>Mobility Disability</td>\n",
       "      <td>1970.0</td>\n",
       "    </tr>\n",
       "    <tr>\n",
       "      <th>217711</th>\n",
       "      <td>TX</td>\n",
       "      <td>2018</td>\n",
       "      <td>Self-care Disability</td>\n",
       "      <td>516.0</td>\n",
       "    </tr>\n",
       "    <tr>\n",
       "      <th>216447</th>\n",
       "      <td>TX</td>\n",
       "      <td>2018</td>\n",
       "      <td>Vision Disability</td>\n",
       "      <td>709.0</td>\n",
       "    </tr>\n",
       "    <tr>\n",
       "      <th>343779</th>\n",
       "      <td>TX</td>\n",
       "      <td>2019</td>\n",
       "      <td>Cognitive Disability</td>\n",
       "      <td>1365.0</td>\n",
       "    </tr>\n",
       "    <tr>\n",
       "      <th>333790</th>\n",
       "      <td>TX</td>\n",
       "      <td>2019</td>\n",
       "      <td>Hearing Disability</td>\n",
       "      <td>1130.0</td>\n",
       "    </tr>\n",
       "    <tr>\n",
       "      <th>339487</th>\n",
       "      <td>TX</td>\n",
       "      <td>2019</td>\n",
       "      <td>Independent Living Disability</td>\n",
       "      <td>1048.0</td>\n",
       "    </tr>\n",
       "    <tr>\n",
       "      <th>342455</th>\n",
       "      <td>TX</td>\n",
       "      <td>2019</td>\n",
       "      <td>Mobility Disability</td>\n",
       "      <td>2343.0</td>\n",
       "    </tr>\n",
       "    <tr>\n",
       "      <th>340252</th>\n",
       "      <td>TX</td>\n",
       "      <td>2019</td>\n",
       "      <td>Self-care Disability</td>\n",
       "      <td>663.0</td>\n",
       "    </tr>\n",
       "    <tr>\n",
       "      <th>343816</th>\n",
       "      <td>TX</td>\n",
       "      <td>2019</td>\n",
       "      <td>Vision Disability</td>\n",
       "      <td>813.0</td>\n",
       "    </tr>\n",
       "  </tbody>\n",
       "</table>\n",
       "</div>"
      ],
      "text/plain": [
       "       LocationAbbr  Year                       Response  Number\n",
       "8585             TX  2016           Cognitive Disability  1124.0\n",
       "2689             TX  2016             Hearing Disability   923.0\n",
       "5270             TX  2016  Independent Living Disability   952.0\n",
       "3735             TX  2016            Mobility Disability  2248.0\n",
       "8692             TX  2016           Self-care Disability   577.0\n",
       "2247             TX  2016              Vision Disability   708.0\n",
       "110410           TX  2017           Cognitive Disability  1396.0\n",
       "162              TX  2017             Hearing Disability   992.0\n",
       "118959           TX  2017  Independent Living Disability  1089.0\n",
       "115869           TX  2017            Mobility Disability  2402.0\n",
       "118399           TX  2017           Self-care Disability   700.0\n",
       "127295           TX  2017              Vision Disability   742.0\n",
       "218851           TX  2018           Cognitive Disability  1158.0\n",
       "219049           TX  2018             Hearing Disability  1000.0\n",
       "225450           TX  2018  Independent Living Disability   871.0\n",
       "214996           TX  2018            Mobility Disability  1970.0\n",
       "217711           TX  2018           Self-care Disability   516.0\n",
       "216447           TX  2018              Vision Disability   709.0\n",
       "343779           TX  2019           Cognitive Disability  1365.0\n",
       "333790           TX  2019             Hearing Disability  1130.0\n",
       "339487           TX  2019  Independent Living Disability  1048.0\n",
       "342455           TX  2019            Mobility Disability  2343.0\n",
       "340252           TX  2019           Self-care Disability   663.0\n",
       "343816           TX  2019              Vision Disability   813.0"
      ]
     },
     "execution_count": 175,
     "metadata": {},
     "output_type": "execute_result"
    }
   ],
   "source": [
    "tmp1[tmp1['LocationAbbr'] == 'TX']"
   ]
  },
  {
   "cell_type": "code",
   "execution_count": 182,
   "id": "7a462c0a",
   "metadata": {},
   "outputs": [
    {
     "data": {
      "text/plain": [
       "Response\n",
       "Independent Living Disability    0.029638\n",
       "Name: Number, dtype: float64"
      ]
     },
     "execution_count": 182,
     "metadata": {},
     "output_type": "execute_result"
    }
   ],
   "source": [
    "df[(df['Response'] == 'Independent Living Disability') & (df['LocationAbbr'] == 'TX')].groupby('Response')['Number'].sum() / df[(df['LocationAbbr'] == 'US') & (df['Response'] == 'Independent Living Disability')].groupby('Response')['Number'].sum()"
   ]
  },
  {
   "cell_type": "code",
   "execution_count": 184,
   "id": "16141956",
   "metadata": {},
   "outputs": [],
   "source": [
    "tx_vision = df[(df['LocationAbbr'] == 'TX') & (df['Response'].str.contains('Vision'))]['Number'].sum()"
   ]
  },
  {
   "cell_type": "code",
   "execution_count": 186,
   "id": "551d14af",
   "metadata": {},
   "outputs": [],
   "source": [
    "al_vision = df[(df['LocationAbbr'] == 'AL') & (df['Response'].str.contains('Vision'))]['Number'].sum()"
   ]
  },
  {
   "cell_type": "code",
   "execution_count": 187,
   "id": "b6bf7fe6",
   "metadata": {},
   "outputs": [
    {
     "data": {
      "text/plain": [
       "1932.0"
      ]
     },
     "execution_count": 187,
     "metadata": {},
     "output_type": "execute_result"
    }
   ],
   "source": [
    "al_vision"
   ]
  },
  {
   "cell_type": "code",
   "execution_count": 188,
   "id": "113fd31b",
   "metadata": {},
   "outputs": [
    {
     "data": {
      "text/plain": [
       "2972.0"
      ]
     },
     "execution_count": 188,
     "metadata": {},
     "output_type": "execute_result"
    }
   ],
   "source": [
    "tx_vision"
   ]
  },
  {
   "cell_type": "code",
   "execution_count": 189,
   "id": "9464a3a0",
   "metadata": {},
   "outputs": [],
   "source": [
    "us_vision = df[(df['LocationAbbr'] == 'US') & (df['Response'].str.contains('Vision'))]['Number'].sum()"
   ]
  },
  {
   "cell_type": "code",
   "execution_count": 190,
   "id": "3c5f0c75",
   "metadata": {},
   "outputs": [
    {
     "data": {
      "text/plain": [
       "92741.0"
      ]
     },
     "execution_count": 190,
     "metadata": {},
     "output_type": "execute_result"
    }
   ],
   "source": [
    "us_vision"
   ]
  },
  {
   "cell_type": "code",
   "execution_count": 191,
   "id": "7eb8a328",
   "metadata": {},
   "outputs": [
    {
     "data": {
      "text/plain": [
       "0.03204623629247043"
      ]
     },
     "execution_count": 191,
     "metadata": {},
     "output_type": "execute_result"
    }
   ],
   "source": [
    "tx_vision / us_vision"
   ]
  },
  {
   "cell_type": "code",
   "execution_count": 192,
   "id": "4b0bae63",
   "metadata": {},
   "outputs": [
    {
     "data": {
      "text/plain": [
       "0.02083221013359787"
      ]
     },
     "execution_count": 192,
     "metadata": {},
     "output_type": "execute_result"
    }
   ],
   "source": [
    "al_vision / us_vision"
   ]
  },
  {
   "cell_type": "code",
   "execution_count": 203,
   "id": "a05311e1",
   "metadata": {},
   "outputs": [
    {
     "data": {
      "text/plain": [
       "Response    Mobility Disability\n",
       "Number                 301785.0\n",
       "Name: 0, dtype: object"
      ]
     },
     "execution_count": 203,
     "metadata": {},
     "output_type": "execute_result"
    }
   ],
   "source": [
    "df[(df['Response'].str.contains('Disability')) & ~((df['Response'].str.contains('No ')) | (df['Response'].str.contains('Any ')) | (df['LocationAbbr'] == 'US') | (df['LocationAbbr'].str.contains('HHS')))].groupby('Response')['Number'].sum().sort_values(ascending=False).reset_index().iloc[0]"
   ]
  },
  {
   "cell_type": "code",
   "execution_count": 204,
   "id": "5c817ef8",
   "metadata": {},
   "outputs": [],
   "source": [
    "tx_mobility = df[(df['LocationAbbr'] == 'TX') & (df['Response'] == 'Mobility Disability')].groupby('Response')['Number'].sum()"
   ]
  },
  {
   "cell_type": "code",
   "execution_count": 205,
   "id": "7efe6aa4",
   "metadata": {},
   "outputs": [
    {
     "data": {
      "text/plain": [
       "Response\n",
       "Mobility Disability    0.0297\n",
       "Name: Number, dtype: float64"
      ]
     },
     "execution_count": 205,
     "metadata": {},
     "output_type": "execute_result"
    }
   ],
   "source": [
    "tx_mobility / us_mobility"
   ]
  },
  {
   "cell_type": "code",
   "execution_count": 206,
   "id": "81126719",
   "metadata": {},
   "outputs": [],
   "source": [
    "disabilities_list = list(df[df['Response'].str.contains('Disability')]['Response'].unique())"
   ]
  },
  {
   "cell_type": "code",
   "execution_count": 207,
   "id": "52095960",
   "metadata": {},
   "outputs": [
    {
     "data": {
      "text/plain": [
       "['Any Disability',\n",
       " 'Mobility Disability',\n",
       " 'No Disability',\n",
       " 'Vision Disability',\n",
       " 'Hearing Disability',\n",
       " 'Independent Living Disability',\n",
       " 'Cognitive Disability',\n",
       " 'Self-care Disability']"
      ]
     },
     "execution_count": 207,
     "metadata": {},
     "output_type": "execute_result"
    }
   ],
   "source": [
    "disabilities_list"
   ]
  },
  {
   "cell_type": "code",
   "execution_count": 239,
   "id": "461a4751",
   "metadata": {},
   "outputs": [],
   "source": [
    "disability_dict = {}\n",
    "for location in list(df['LocationAbbr'].unique()):\n",
    "    disability_dict[location] = {}\n",
    "    for year in list(df['Year'].unique()):\n",
    "        disability_dict[location][year] = {}\n",
    "        for disability in disabilities_list:\n",
    "            disability_dict[location][year][disability.split(' ')[0]] = df[(df['LocationAbbr'] == location) & (df['Year'] == year) & (df['Response'] == disability)]['Number']"
   ]
  },
  {
   "cell_type": "code",
   "execution_count": 241,
   "id": "3284e83d",
   "metadata": {},
   "outputs": [
    {
     "data": {
      "text/plain": [
       "0.022258560515461403"
      ]
     },
     "execution_count": 241,
     "metadata": {},
     "output_type": "execute_result"
    }
   ],
   "source": [
    "int(disability_dict['KS'][2016]['Mobility'].item()) / int(disability_dict['US'][2016]['Mobility'].item())"
   ]
  },
  {
   "cell_type": "code",
   "execution_count": null,
   "id": "b35ae44b",
   "metadata": {},
   "outputs": [],
   "source": []
  }
 ],
 "metadata": {
  "kernelspec": {
   "display_name": "Python 3 (ipykernel)",
   "language": "python",
   "name": "python3"
  },
  "language_info": {
   "codemirror_mode": {
    "name": "ipython",
    "version": 3
   },
   "file_extension": ".py",
   "mimetype": "text/x-python",
   "name": "python",
   "nbconvert_exporter": "python",
   "pygments_lexer": "ipython3",
   "version": "3.9.6"
  }
 },
 "nbformat": 4,
 "nbformat_minor": 5
}
