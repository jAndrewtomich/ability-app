{
 "cells": [
  {
   "cell_type": "code",
   "execution_count": 2,
   "id": "cc683623",
   "metadata": {},
   "outputs": [],
   "source": [
    "import pandas as pd\n",
    "\n",
    "df_raw = pd.read_csv('data.csv')"
   ]
  },
  {
   "cell_type": "code",
   "execution_count": 54,
   "id": "fe88ae6e",
   "metadata": {},
   "outputs": [],
   "source": [
    "df = df_raw.copy(deep=True)"
   ]
  },
  {
   "cell_type": "code",
   "execution_count": 55,
   "id": "c2cadffa",
   "metadata": {},
   "outputs": [
    {
     "data": {
      "text/plain": [
       "Rowid                                   2016~48~SMOKE01~SMOKE~DISSTAT~NODIS~~~~\n",
       "Year                                                                       2016\n",
       "LocationAbbr                                                                 TX\n",
       "LocationDesc                                                              Texas\n",
       "DataSource                                                                BRFSS\n",
       "Category                                               Health Risks & Behaviors\n",
       "Indicator                     Smoking status among adults 18 years of age or...\n",
       "Response                                                         Current Smoker\n",
       "Data_Value_Unit                                                               %\n",
       "Data_Value_Type                                         Age-adjusted Prevalence\n",
       "Data_Value                                                                 12.3\n",
       "Data_Value_Alt                                                             12.3\n",
       "Data_Value_Footnote_Symbol                                                  NaN\n",
       "Data_Value_Footnote                                                         NaN\n",
       "Low_Confidence_Limit                                                       11.1\n",
       "High_Confidence_Limit                                                      13.6\n",
       "Number                                                                    850.0\n",
       "WeightedNumber                                                        1855099.0\n",
       "StratificationCategory1                                       Disability Status\n",
       "Stratification1                                                   No Disability\n",
       "StratificationCategory2                                                     NaN\n",
       "Stratification2                                                             NaN\n",
       "CategoryID                                                               HLTHRB\n",
       "IndicatorID                                                               SMOKE\n",
       "Geolocation                                                                 NaN\n",
       "LocationID                                                                   48\n",
       "ResponseID                                                              SMOKE01\n",
       "DataValueTypeID                                                      AGEADJPREV\n",
       "StratificationCategoryID1                                               DISSTAT\n",
       "StratificationID1                                                         NODIS\n",
       "StratificationCategoryID2                                                   NaN\n",
       "StratificationID2                                                           NaN\n",
       "Name: 6, dtype: object"
      ]
     },
     "execution_count": 55,
     "metadata": {},
     "output_type": "execute_result"
    }
   ],
   "source": [
    "df[df['LocationAbbr'] == 'TX'].iloc[0]"
   ]
  },
  {
   "cell_type": "code",
   "execution_count": 56,
   "id": "a1e33ea8",
   "metadata": {},
   "outputs": [
    {
     "data": {
      "text/html": [
       "<div>\n",
       "<style scoped>\n",
       "    .dataframe tbody tr th:only-of-type {\n",
       "        vertical-align: middle;\n",
       "    }\n",
       "\n",
       "    .dataframe tbody tr th {\n",
       "        vertical-align: top;\n",
       "    }\n",
       "\n",
       "    .dataframe thead th {\n",
       "        text-align: right;\n",
       "    }\n",
       "</style>\n",
       "<table border=\"1\" class=\"dataframe\">\n",
       "  <thead>\n",
       "    <tr style=\"text-align: right;\">\n",
       "      <th></th>\n",
       "      <th>Year</th>\n",
       "      <th>State</th>\n",
       "      <th>DisStat</th>\n",
       "    </tr>\n",
       "  </thead>\n",
       "  <tbody>\n",
       "    <tr>\n",
       "      <th>445</th>\n",
       "      <td>2016</td>\n",
       "      <td>AK</td>\n",
       "      <td>Any Disability</td>\n",
       "    </tr>\n",
       "    <tr>\n",
       "      <th>647</th>\n",
       "      <td>2016</td>\n",
       "      <td>AK</td>\n",
       "      <td>Any Disability</td>\n",
       "    </tr>\n",
       "    <tr>\n",
       "      <th>1527</th>\n",
       "      <td>2016</td>\n",
       "      <td>AK</td>\n",
       "      <td>Any Disability</td>\n",
       "    </tr>\n",
       "    <tr>\n",
       "      <th>1553</th>\n",
       "      <td>2016</td>\n",
       "      <td>AK</td>\n",
       "      <td>Any Disability</td>\n",
       "    </tr>\n",
       "    <tr>\n",
       "      <th>2198</th>\n",
       "      <td>2016</td>\n",
       "      <td>AK</td>\n",
       "      <td>Any Disability</td>\n",
       "    </tr>\n",
       "    <tr>\n",
       "      <th>...</th>\n",
       "      <td>...</td>\n",
       "      <td>...</td>\n",
       "      <td>...</td>\n",
       "    </tr>\n",
       "    <tr>\n",
       "      <th>432957</th>\n",
       "      <td>2019</td>\n",
       "      <td>WY</td>\n",
       "      <td>Vision Disability</td>\n",
       "    </tr>\n",
       "    <tr>\n",
       "      <th>433435</th>\n",
       "      <td>2019</td>\n",
       "      <td>WY</td>\n",
       "      <td>Vision Disability</td>\n",
       "    </tr>\n",
       "    <tr>\n",
       "      <th>435614</th>\n",
       "      <td>2019</td>\n",
       "      <td>WY</td>\n",
       "      <td>Vision Disability</td>\n",
       "    </tr>\n",
       "    <tr>\n",
       "      <th>436392</th>\n",
       "      <td>2019</td>\n",
       "      <td>WY</td>\n",
       "      <td>Vision Disability</td>\n",
       "    </tr>\n",
       "    <tr>\n",
       "      <th>438471</th>\n",
       "      <td>2019</td>\n",
       "      <td>WY</td>\n",
       "      <td>Vision Disability</td>\n",
       "    </tr>\n",
       "  </tbody>\n",
       "</table>\n",
       "<p>438788 rows × 3 columns</p>\n",
       "</div>"
      ],
      "text/plain": [
       "        Year State            DisStat\n",
       "445     2016    AK     Any Disability\n",
       "647     2016    AK     Any Disability\n",
       "1527    2016    AK     Any Disability\n",
       "1553    2016    AK     Any Disability\n",
       "2198    2016    AK     Any Disability\n",
       "...      ...   ...                ...\n",
       "432957  2019    WY  Vision Disability\n",
       "433435  2019    WY  Vision Disability\n",
       "435614  2019    WY  Vision Disability\n",
       "436392  2019    WY  Vision Disability\n",
       "438471  2019    WY  Vision Disability\n",
       "\n",
       "[438788 rows x 3 columns]"
      ]
     },
     "execution_count": 56,
     "metadata": {},
     "output_type": "execute_result"
    }
   ],
   "source": [
    "tmp = df[['Year', 'LocationAbbr', 'Stratification1']].sort_values(['LocationAbbr', 'Year', 'Stratification1']).rename(columns={'LocationAbbr': 'State', 'Stratification1': 'DisStat'})\n",
    "tmp"
   ]
  },
  {
   "cell_type": "code",
   "execution_count": 49,
   "id": "edd01525",
   "metadata": {},
   "outputs": [],
   "source": [
    "tmp = tmp[tmp['DisStat'] != 'No Disability']"
   ]
  },
  {
   "cell_type": "code",
   "execution_count": 32,
   "id": "83997370",
   "metadata": {},
   "outputs": [],
   "source": [
    "tmp.to_csv('out.csv')"
   ]
  },
  {
   "cell_type": "code",
   "execution_count": null,
   "id": "07463665",
   "metadata": {},
   "outputs": [],
   "source": []
  },
  {
   "cell_type": "code",
   "execution_count": 59,
   "id": "0b4ecdd5",
   "metadata": {},
   "outputs": [],
   "source": [
    "import os\n",
    "\n",
    "\n",
    "def create_csvs():\n",
    "    if not os.path.isdir('out'):\n",
    "        os.mkdir('out')\n",
    "\n",
    "    for state in list(tmp['State'].unique()):\n",
    "        tmp[tmp['State'] == state].sort_values('Year').to_csv(f\"out/{state}.csv\")\n",
    "        \n",
    "    return"
   ]
  },
  {
   "cell_type": "code",
   "execution_count": 60,
   "id": "ed71e91e",
   "metadata": {},
   "outputs": [],
   "source": [
    "create_csvs()"
   ]
  },
  {
   "cell_type": "code",
   "execution_count": null,
   "id": "e80d9383",
   "metadata": {},
   "outputs": [],
   "source": []
  },
  {
   "cell_type": "code",
   "execution_count": 64,
   "id": "5ac7abce",
   "metadata": {},
   "outputs": [],
   "source": [
    "df16 = tmp[tmp['Year'] == 2016].sort_values('State')"
   ]
  },
  {
   "cell_type": "code",
   "execution_count": 66,
   "id": "e41c23d8",
   "metadata": {},
   "outputs": [],
   "source": [
    "df16.to_csv('out.csv')"
   ]
  },
  {
   "cell_type": "code",
   "execution_count": null,
   "id": "c23e41ae",
   "metadata": {},
   "outputs": [],
   "source": []
  }
 ],
 "metadata": {
  "kernelspec": {
   "display_name": "Python 3 (ipykernel)",
   "language": "python",
   "name": "python3"
  },
  "language_info": {
   "codemirror_mode": {
    "name": "ipython",
    "version": 3
   },
   "file_extension": ".py",
   "mimetype": "text/x-python",
   "name": "python",
   "nbconvert_exporter": "python",
   "pygments_lexer": "ipython3",
   "version": "3.9.6"
  }
 },
 "nbformat": 4,
 "nbformat_minor": 5
}
